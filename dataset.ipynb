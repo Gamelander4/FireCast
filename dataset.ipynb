{
 "cells": [
  {
   "cell_type": "code",
   "execution_count": 1,
   "id": "95ceef32-2977-459b-ae0f-e8a1555f3e3b",
   "metadata": {},
   "outputs": [],
   "source": [
    "#import statements\n",
    "import sqlite3\n",
    "import pandas as pd\n",
    "from datetime import datetime\n",
    "from noaa_sdk import NOAA\n",
    "n=NOAA() #weather API\n",
    "\n",
    "#loading kaggle dataset\n",
    "conn = sqlite3.connect('FPA_FOD_20221014.sqlite')\n",
    "df = pd.read_sql('SELECT LATITUDE, LONGITUDE, DISCOVERY_DATE FROM Fires;', con=conn,)\n"
   ]
  },
  {
   "cell_type": "code",
   "execution_count": 2,
   "id": "b5e98958-d8aa-4b35-825e-d80064ea741b",
   "metadata": {},
   "outputs": [],
   "source": [
    "\n",
    "temperature = []\n",
    "#windspeed = []\n",
    "humidity = []\n",
    "index = []\n",
    "lats = []\n",
    "longs = []\n",
    "was_fire = []\n",
    "\n",
    "#multiprocessing to run the for loops in paralell\n",
    "def process_forecast(row): \n",
    "    lat = row['LATITUDE']\n",
    "    lon = row['LONGITUDE']\n",
    "    day = row['DISCOVERY_DATE']\n",
    "    input_date = datetime.strptime(day, \"%m/%d/%Y\")\n",
    "    output_date = input_date.strftime(\"%Y-%m-%d\")\n",
    "    forecast = n.get_observations_by_lat_lon(lat, lon, start=output_date)\n",
    "    \n",
    "    for _ff, fore in enumerate(forecast):\n",
    "        temp = fore['temperature']['value']\n",
    "        #wind = fore['windSpeed']['value']\n",
    "        humid = fore['relativeHumidity']['value']\n",
    "        heat = fore['heatIndex']['value']\n",
    "        \n",
    "        if(temp != None and humid != None and heat != None):\n",
    "            lats.append(lat)\n",
    "            longs.append(lon)\n",
    "            temperature.append(temp)\n",
    "            #windspeed.append(wind)\n",
    "            humidity.append(humid)\n",
    "            index.append(heat)\n",
    "            was_fire.append(1)\n",
    "            \n",
    "    return"
   ]
  },
  {
   "cell_type": "code",
   "execution_count": 3,
   "id": "857189ea-6a06-4696-ad2d-daf4d2d8481f",
   "metadata": {},
   "outputs": [
    {
     "name": "stdout",
     "output_type": "stream",
     "text": [
      "Previous request failed with code 503. Retrying...\n",
      "Previous Response: <HTML><HEAD><TITLE>Error</TITLE></HEAD><BODY>\n",
      "An error occurred while processing your request.<p>\n",
      "Reference&#32;&#35;102&#46;e83b2f17&#46;1699116427&#46;3fab0be3\n",
      "</BODY></HTML>\n",
      "\n",
      "Previous request failed with code 503. Retrying...\n",
      "Previous Response: <HTML><HEAD><TITLE>Error</TITLE></HEAD><BODY>\n",
      "An error occurred while processing your request.<p>\n",
      "Reference&#32;&#35;102&#46;e83b2f17&#46;1699116427&#46;3fab0df0\n",
      "</BODY></HTML>\n",
      "\n",
      "Previous request failed with code 503. Retrying...\n",
      "Previous Response: <HTML><HEAD><TITLE>Error</TITLE></HEAD><BODY>\n",
      "An error occurred while processing your request.<p>\n",
      "Reference&#32;&#35;102&#46;ef3b2f17&#46;1699116429&#46;4e61b67e\n",
      "</BODY></HTML>\n",
      "\n",
      "Previous request failed with code 503. Retrying...\n",
      "Previous Response: <HTML><HEAD><TITLE>Error</TITLE></HEAD><BODY>\n",
      "An error occurred while processing your request.<p>\n",
      "Reference&#32;&#35;102&#46;e83b2f17&#46;1699116433&#46;3fab3cfb\n",
      "</BODY></HTML>\n",
      "\n",
      "Previous request failed with code 503. Retrying...\n",
      "Previous Response: <HTML><HEAD><TITLE>Error</TITLE></HEAD><BODY>\n",
      "An error occurred while processing your request.<p>\n",
      "Reference&#32;&#35;102&#46;ef3b2f17&#46;1699116450&#46;4e629db7\n",
      "</BODY></HTML>\n",
      "\n",
      "Previous request failed with code 503. Retrying...\n",
      "Previous Response: <HTML><HEAD><TITLE>Error</TITLE></HEAD><BODY>\n",
      "An error occurred while processing your request.<p>\n",
      "Reference&#32;&#35;102&#46;ef3b2f17&#46;1699116450&#46;4e629ffe\n",
      "</BODY></HTML>\n",
      "\n",
      "Previous request failed with code 503. Retrying...\n",
      "Previous Response: <HTML><HEAD><TITLE>Error</TITLE></HEAD><BODY>\n",
      "An error occurred while processing your request.<p>\n",
      "Reference&#32;&#35;102&#46;ef3b2f17&#46;1699116453&#46;4e62b942\n",
      "</BODY></HTML>\n",
      "\n",
      "Previous request failed with code 503. Retrying...\n",
      "Previous Response: <HTML><HEAD><TITLE>Error</TITLE></HEAD><BODY>\n",
      "An error occurred while processing your request.<p>\n",
      "Reference&#32;&#35;102&#46;e83b2f17&#46;1699116456&#46;3fac1029\n",
      "</BODY></HTML>\n",
      "\n",
      "Previous request failed with code 503. Retrying...\n",
      "Previous Response: <HTML><HEAD><TITLE>Error</TITLE></HEAD><BODY>\n",
      "An error occurred while processing your request.<p>\n",
      "Reference&#32;&#35;102&#46;e83b2f17&#46;1699116461&#46;3fac4100\n",
      "</BODY></HTML>\n",
      "\n"
     ]
    },
    {
     "ename": "Exception",
     "evalue": "Maximum retries exceeded. Response object dump: <Response [503]>",
     "output_type": "error",
     "traceback": [
      "\u001b[1;31m---------------------------------------------------------------------------\u001b[0m",
      "\u001b[1;31mException\u001b[0m                                 Traceback (most recent call last)",
      "\u001b[1;32mc:\\Users\\itspn\\Documents\\Polygence Project Code\\Practice Model\\dataset.ipynb Cell 3\u001b[0m line \u001b[0;36m2\n\u001b[0;32m      <a href='vscode-notebook-cell:/c%3A/Users/itspn/Documents/Polygence%20Project%20Code/Practice%20Model/dataset.ipynb#W2sZmlsZQ%3D%3D?line=0'>1</a>\u001b[0m \u001b[39mfor\u001b[39;00m _, dd \u001b[39min\u001b[39;00m df\u001b[39m.\u001b[39miterrows():\n\u001b[1;32m----> <a href='vscode-notebook-cell:/c%3A/Users/itspn/Documents/Polygence%20Project%20Code/Practice%20Model/dataset.ipynb#W2sZmlsZQ%3D%3D?line=1'>2</a>\u001b[0m     process_forecast(dd)\n",
      "\u001b[1;32mc:\\Users\\itspn\\Documents\\Polygence Project Code\\Practice Model\\dataset.ipynb Cell 3\u001b[0m line \u001b[0;36m1\n\u001b[0;32m     <a href='vscode-notebook-cell:/c%3A/Users/itspn/Documents/Polygence%20Project%20Code/Practice%20Model/dataset.ipynb#W2sZmlsZQ%3D%3D?line=14'>15</a>\u001b[0m output_date \u001b[39m=\u001b[39m input_date\u001b[39m.\u001b[39mstrftime(\u001b[39m\"\u001b[39m\u001b[39m%\u001b[39m\u001b[39mY-\u001b[39m\u001b[39m%\u001b[39m\u001b[39mm-\u001b[39m\u001b[39m%d\u001b[39;00m\u001b[39m\"\u001b[39m)\n\u001b[0;32m     <a href='vscode-notebook-cell:/c%3A/Users/itspn/Documents/Polygence%20Project%20Code/Practice%20Model/dataset.ipynb#W2sZmlsZQ%3D%3D?line=15'>16</a>\u001b[0m forecast \u001b[39m=\u001b[39m n\u001b[39m.\u001b[39mget_observations_by_lat_lon(lat, lon, start\u001b[39m=\u001b[39moutput_date)\n\u001b[1;32m---> <a href='vscode-notebook-cell:/c%3A/Users/itspn/Documents/Polygence%20Project%20Code/Practice%20Model/dataset.ipynb#W2sZmlsZQ%3D%3D?line=17'>18</a>\u001b[0m \u001b[39mfor\u001b[39;49;00m _ff, fore \u001b[39min\u001b[39;49;00m \u001b[39menumerate\u001b[39;49m(forecast):\n\u001b[0;32m     <a href='vscode-notebook-cell:/c%3A/Users/itspn/Documents/Polygence%20Project%20Code/Practice%20Model/dataset.ipynb#W2sZmlsZQ%3D%3D?line=18'>19</a>\u001b[0m     temp \u001b[39m=\u001b[39;49m fore[\u001b[39m'\u001b[39;49m\u001b[39mtemperature\u001b[39;49m\u001b[39m'\u001b[39;49m][\u001b[39m'\u001b[39;49m\u001b[39mvalue\u001b[39;49m\u001b[39m'\u001b[39;49m]\n\u001b[0;32m     <a href='vscode-notebook-cell:/c%3A/Users/itspn/Documents/Polygence%20Project%20Code/Practice%20Model/dataset.ipynb#W2sZmlsZQ%3D%3D?line=19'>20</a>\u001b[0m     \u001b[39m#wind = fore['windSpeed']['value']\u001b[39;49;00m\n",
      "File \u001b[1;32mc:\\Users\\itspn\\Documents\\Polygence Project Code\\Practice Model\\env\\Lib\\site-packages\\noaa_sdk\\noaa.py:206\u001b[0m, in \u001b[0;36mNOAA.get_observations_by_lat_lon\u001b[1;34m(self, lat, lon, start, end, num_of_stations)\u001b[0m\n\u001b[0;32m    204\u001b[0m     \u001b[39mbreak\u001b[39;00m\n\u001b[0;32m    205\u001b[0m station_id \u001b[39m=\u001b[39m station\u001b[39m.\u001b[39msplit(\u001b[39m'\u001b[39m\u001b[39m/\u001b[39m\u001b[39m'\u001b[39m)[\u001b[39m-\u001b[39m\u001b[39m1\u001b[39m]\n\u001b[1;32m--> 206\u001b[0m response \u001b[39m=\u001b[39m \u001b[39mself\u001b[39;49m\u001b[39m.\u001b[39;49mstations_observations(\n\u001b[0;32m    207\u001b[0m     station_id\u001b[39m=\u001b[39;49mstation_id, \u001b[39m*\u001b[39;49m\u001b[39m*\u001b[39;49mstations_observations_params)\n\u001b[0;32m    209\u001b[0m observations \u001b[39m=\u001b[39m response\n\u001b[0;32m    210\u001b[0m \u001b[39mif\u001b[39;00m \u001b[39mtype\u001b[39m(response) \u001b[39m==\u001b[39m \u001b[39mdict\u001b[39m:\n",
      "File \u001b[1;32mc:\\Users\\itspn\\Documents\\Polygence Project Code\\Practice Model\\env\\Lib\\site-packages\\noaa_sdk\\noaa.py:372\u001b[0m, in \u001b[0;36mNOAA.stations_observations\u001b[1;34m(self, station_id, **params)\u001b[0m\n\u001b[0;32m    367\u001b[0m \u001b[39mif\u001b[39;00m \u001b[39mlen\u001b[39m(params) \u001b[39m>\u001b[39m \u001b[39m1\u001b[39m:\n\u001b[0;32m    368\u001b[0m     request_uri \u001b[39m=\u001b[39m \u001b[39m'\u001b[39m\u001b[39m{old_request_uri}\u001b[39;00m\u001b[39m?\u001b[39m\u001b[39m{query_string}\u001b[39;00m\u001b[39m'\u001b[39m\u001b[39m.\u001b[39mformat(\n\u001b[0;32m    369\u001b[0m         old_request_uri\u001b[39m=\u001b[39mrequest_uri,\n\u001b[0;32m    370\u001b[0m         query_string\u001b[39m=\u001b[39murlencode(params))\n\u001b[1;32m--> 372\u001b[0m observations \u001b[39m=\u001b[39m \u001b[39mself\u001b[39;49m\u001b[39m.\u001b[39;49mmake_get_request(\n\u001b[0;32m    373\u001b[0m     request_uri, end_point\u001b[39m=\u001b[39;49m\u001b[39mself\u001b[39;49m\u001b[39m.\u001b[39;49mDEFAULT_END_POINT)\n\u001b[0;32m    374\u001b[0m \u001b[39mif\u001b[39;00m \u001b[39m'\u001b[39m\u001b[39mfeatures\u001b[39m\u001b[39m'\u001b[39m \u001b[39mnot\u001b[39;00m \u001b[39min\u001b[39;00m observations:\n\u001b[0;32m    375\u001b[0m     \u001b[39mraise\u001b[39;00m \u001b[39mException\u001b[39;00m(observations)\n",
      "File \u001b[1;32mc:\\Users\\itspn\\Documents\\Polygence Project Code\\Practice Model\\env\\Lib\\site-packages\\noaa_sdk\\util.py:148\u001b[0m, in \u001b[0;36mUTIL.make_get_request\u001b[1;34m(self, uri, header, end_point)\u001b[0m\n\u001b[0;32m    145\u001b[0m     end_point \u001b[39m=\u001b[39m uri\u001b[39m.\u001b[39msplit(\u001b[39m'\u001b[39m\u001b[39m/\u001b[39m\u001b[39m'\u001b[39m)[\u001b[39m0\u001b[39m]\n\u001b[0;32m    146\u001b[0m     uri \u001b[39m=\u001b[39m uri\u001b[39m.\u001b[39mreplace(end_point, \u001b[39m'\u001b[39m\u001b[39m'\u001b[39m)\n\u001b[1;32m--> 148\u001b[0m res \u001b[39m=\u001b[39m \u001b[39mself\u001b[39;49m\u001b[39m.\u001b[39;49m_get(end_point, uri, header)\n\u001b[0;32m    150\u001b[0m \u001b[39mreturn\u001b[39;00m res\u001b[39m.\u001b[39mjson()\n",
      "File \u001b[1;32mc:\\Users\\itspn\\Documents\\Polygence Project Code\\Practice Model\\env\\Lib\\site-packages\\noaa_sdk\\util.py:62\u001b[0m, in \u001b[0;36mUTIL._retry_request_decorator.<locals>._retry_request_sub_decorator.<locals>.wrapper\u001b[1;34m(*args, **kargs)\u001b[0m\n\u001b[0;32m     59\u001b[0m     retry \u001b[39m+\u001b[39m\u001b[39m=\u001b[39m \u001b[39m1\u001b[39m\n\u001b[0;32m     61\u001b[0m \u001b[39mif\u001b[39;00m retry \u001b[39m>\u001b[39m max_retries:\n\u001b[1;32m---> 62\u001b[0m     \u001b[39mraise\u001b[39;00m \u001b[39mException\u001b[39;00m(\n\u001b[0;32m     63\u001b[0m         \u001b[39m'\u001b[39m\u001b[39mMaximum retries exceeded. Response object dump: \u001b[39m\u001b[39m{}\u001b[39;00m\u001b[39m'\u001b[39m\u001b[39m.\u001b[39mformat(\n\u001b[0;32m     64\u001b[0m             response))\n\u001b[0;32m     65\u001b[0m \u001b[39mreturn\u001b[39;00m response\n",
      "\u001b[1;31mException\u001b[0m: Maximum retries exceeded. Response object dump: <Response [503]>"
     ]
    }
   ],
   "source": [
    "for _, dd in df.iterrows():\n",
    "    process_forecast(dd)"
   ]
  },
  {
   "cell_type": "code",
   "execution_count": 4,
   "id": "18e08bde-eba3-453d-8cfa-139066216df3",
   "metadata": {},
   "outputs": [
    {
     "name": "stdout",
     "output_type": "stream",
     "text": [
      "3217\n",
      "3217\n",
      "3217\n",
      "3217\n",
      "3217\n",
      "3217\n"
     ]
    }
   ],
   "source": [
    "print(len(lats))\n",
    "print(len(longs))\n",
    "print(len(was_fire))\n",
    "print(len(temperature))\n",
    "print(len(humidity))\n",
    "print(len(index))"
   ]
  },
  {
   "cell_type": "code",
   "execution_count": 15,
   "id": "a903b572-88b7-4c61-a8f8-4886e2d0a689",
   "metadata": {},
   "outputs": [],
   "source": [
    "weather = n.get_observations('90280', 'US')   \n",
    "lat = 33.955\n",
    "lon = -118.212\n",
    "for i in range(12000):\n",
    "    for j in weather:\n",
    "        temp = j['temperature']['value']\n",
    "        #wind = j['windSpeed']['value']\n",
    "        humid = j['relativeHumidity']['value']\n",
    "        heat = j['heatIndex']['value']\n",
    "        if(temp != None and humid != None and heat != None):\n",
    "            lats.append(lat)\n",
    "            longs.append(lon)\n",
    "            temperature.append(temp)\n",
    "            #windspeed.append(wind)\n",
    "            humidity.append(humid)\n",
    "            index.append(heat)\n",
    "            was_fire.append(0)\n"
   ]
  },
  {
   "cell_type": "code",
   "execution_count": 9,
   "id": "199daa8d-80a6-4e1d-a993-164aee6f8974",
   "metadata": {},
   "outputs": [],
   "source": [
    "weather = n.get_observations('11365', 'US')\n",
    "lat = 47.606\n",
    "lon = -122.332\n",
    "for i in range(300000):\n",
    "    for j in weather:\n",
    "        temp = j['temperature']['value']\n",
    "        #wind = j['windSpeed']['value']\n",
    "        humid = j['relativeHumidity']['value']\n",
    "        heat = j['heatIndex']['value']\n",
    "        if(temp != None and humid != None and heat != None):\n",
    "            lats.append(lat)\n",
    "            longs.append(lon)\n",
    "            temperature.append(temp)\n",
    "            #windspeed.append(wind)\n",
    "            humidity.append(humid)\n",
    "            index.append(heat)\n",
    "            was_fire.append(0)\n",
    "            \n"
   ]
  },
  {
   "cell_type": "code",
   "execution_count": 8,
   "id": "7baf6bc7",
   "metadata": {},
   "outputs": [],
   "source": [
    "weather = n.get_observations('12204', 'US')\n",
    "lat = 42.652\n",
    "lon = -73.755\n",
    "for i in range(12000):\n",
    "    for j in weather:\n",
    "        temp = j['temperature']['value']\n",
    "        #wind = j['windSpeed']['value']\n",
    "        humid = j['relativeHumidity']['value']\n",
    "        heat = j['heatIndex']['value']\n",
    "        if(temp != None and humid != None and heat != None):\n",
    "            lats.append(lat)\n",
    "            longs.append(lon)\n",
    "            temperature.append(temp)\n",
    "            #windspeed.append(wind)\n",
    "            humidity.append(humid)\n",
    "            index.append(heat)\n",
    "            was_fire.append(0)\n"
   ]
  },
  {
   "cell_type": "code",
   "execution_count": 13,
   "id": "f96c18ca",
   "metadata": {},
   "outputs": [],
   "source": [
    "weather = n.get_observations('33130', 'US')\n",
    "lat = 21.762\n",
    "lon = -80.192\n",
    "for i in range(12000):\n",
    "    for j in weather:\n",
    "        temp = j['temperature']['value']\n",
    "        #wind = j['windSpeed']['value']\n",
    "        humid = j['relativeHumidity']['value']\n",
    "        heat = j['heatIndex']['value']\n",
    "        if(temp != None and humid != None and heat != None):\n",
    "            lats.append(lat)\n",
    "            longs.append(lon)\n",
    "            temperature.append(temp)\n",
    "            #windspeed.append(wind)\n",
    "            humidity.append(humid)\n",
    "            index.append(heat)\n",
    "            was_fire.append(0)\n",
    "    "
   ]
  },
  {
   "cell_type": "code",
   "execution_count": 4,
   "id": "951959f5",
   "metadata": {},
   "outputs": [],
   "source": [
    "weather = n.get_observations('10026', 'US')\n",
    "lat = 40.713\n",
    "lon = -74.006\n",
    "length = len(lats)\n",
    "for i in range(12000):\n",
    "    for j in weather:\n",
    "        temp = j['temperature']['value']\n",
    "        #wind = j['windSpeed']['value']\n",
    "        humid = j['relativeHumidity']['value']\n",
    "        heat = j['heatIndex']['value']\n",
    "        if(temp != None and humid != None and heat != None):\n",
    "            lats.append(lat)\n",
    "            longs.append(lon)\n",
    "            temperature.append(temp)\n",
    "            #windspeed.append(wind)\n",
    "            humidity.append(humid)\n",
    "            index.append(heat)\n",
    "            was_fire.append(0)"
   ]
  },
  {
   "cell_type": "code",
   "execution_count": 19,
   "metadata": {},
   "outputs": [],
   "source": [
    "weather = n.get_observations('95833', 'US')\n",
    "lat = 38.582\n",
    "lon = -121.494  \n",
    "for i in range(12000):\n",
    "    for j in weather:\n",
    "        temp = j['temperature']['value']\n",
    "        #wind = j['windSpeed']['value']\n",
    "        humid = j['relativeHumidity']['value']\n",
    "        heat = j['heatIndex']['value']\n",
    "        if(temp != None and humid != None and heat != None):\n",
    "            lats.append(lat)\n",
    "            longs.append(lon)\n",
    "            temperature.append(temp)\n",
    "            #windspeed.append(wind)\n",
    "            humidity.append(humid)\n",
    "            index.append(heat)\n",
    "            was_fire.append(0)"
   ]
  },
  {
   "cell_type": "code",
   "execution_count": 20,
   "id": "14dc7e5f",
   "metadata": {},
   "outputs": [
    {
     "name": "stdout",
     "output_type": "stream",
     "text": [
      "155\n",
      "155\n",
      "155\n",
      "155\n",
      "155\n",
      "155\n"
     ]
    }
   ],
   "source": [
    "print(len(lats))\n",
    "print(len(longs))\n",
    "print(len(was_fire))\n",
    "print(len(temperature))\n",
    "print(len(humidity))\n",
    "print(len(index))"
   ]
  },
  {
   "cell_type": "code",
   "execution_count": 21,
   "id": "1c06be2c-f3ff-4314-9f2a-010127c1c7d1",
   "metadata": {},
   "outputs": [
    {
     "name": "stdout",
     "output_type": "stream",
     "text": [
      "     Latitude  Longitude  Temperature  RelativeHumidity  HeatIndex  \\\n",
      "0      34.054   -118.247         23.3         42.941006  22.806793   \n",
      "1      34.054   -118.247         25.0         36.014113  24.495924   \n",
      "2      34.054   -118.247         25.0         31.004556  24.365119   \n",
      "3      34.054   -118.247         24.4         41.834502  23.987901   \n",
      "4      34.054   -118.247         25.6         30.960500  25.023969   \n",
      "..        ...        ...          ...               ...        ...   \n",
      "150    38.582   -121.494         23.9         15.482507  22.749821   \n",
      "151    38.582   -121.494         24.4         14.471475  23.273422   \n",
      "152    38.582   -121.494         25.0         12.274676  23.876061   \n",
      "153    38.582   -121.494         23.9         13.110231  22.687878   \n",
      "154    38.582   -121.494         22.2         15.094234  20.869683   \n",
      "\n",
      "     FireExisted  \n",
      "0              0  \n",
      "1              0  \n",
      "2              0  \n",
      "3              0  \n",
      "4              0  \n",
      "..           ...  \n",
      "150            0  \n",
      "151            0  \n",
      "152            0  \n",
      "153            0  \n",
      "154            0  \n",
      "\n",
      "[155 rows x 6 columns]\n"
     ]
    }
   ],
   "source": [
    "#making a dataset with the weather data                                               \n",
    "data = {\n",
    "    'Latitude' : lats,\n",
    "    'Longitude' : longs,\n",
    "    'Temperature': temperature,\n",
    "    #'WindSpeed': windspeed,\n",
    "    'RelativeHumidity': humidity,\n",
    "    'HeatIndex': index,\n",
    "    'FireExisted': was_fire,\n",
    "}     \n",
    "dataframe = pd.DataFrame(data)\n",
    "print(dataframe)"
   ]
  },
  {
   "cell_type": "code",
   "execution_count": 22,
   "id": "e0f7eab8",
   "metadata": {},
   "outputs": [
    {
     "name": "stdout",
     "output_type": "stream",
     "text": [
      "Dataset saved to adding_data.csv\n"
     ]
    }
   ],
   "source": [
    "def data_to_csv(dataset, file_path):\n",
    "    try:\n",
    "        dataset.to_csv(file_path, index=False)\n",
    "        print(f'Dataset saved to {file_path}')\n",
    "    except Exception as e:\n",
    "        print(f'Error saving dataset: {str(e)}')\n",
    "data_to_csv(dataframe, 'adding_data.csv')"
   ]
  }
 ],
 "metadata": {
  "kernelspec": {
   "display_name": "Python 3 (ipykernel)",
   "language": "python",
   "name": "python3"
  },
  "language_info": {
   "codemirror_mode": {
    "name": "ipython",
    "version": 3
   },
   "file_extension": ".py",
   "mimetype": "text/x-python",
   "name": "python",
   "nbconvert_exporter": "python",
   "pygments_lexer": "ipython3",
   "version": "3.11.4"
  }
 },
 "nbformat": 4,
 "nbformat_minor": 5
}
